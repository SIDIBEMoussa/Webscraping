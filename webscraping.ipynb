{
  "nbformat": 4,
  "nbformat_minor": 0,
  "metadata": {
    "colab": {
      "name": "webscraping.ipynb",
      "provenance": [],
      "collapsed_sections": [],
      "authorship_tag": "ABX9TyNyw0v1hBIpnExG6hPK5/Kk",
      "include_colab_link": true
    },
    "kernelspec": {
      "name": "python3",
      "display_name": "Python 3"
    },
    "language_info": {
      "name": "python"
    }
  },
  "cells": [
    {
      "cell_type": "markdown",
      "metadata": {
        "id": "view-in-github",
        "colab_type": "text"
      },
      "source": [
        "<a href=\"https://colab.research.google.com/github/SIDIBEMoussa/Webscraping/blob/main/webscraping.ipynb\" target=\"_parent\"><img src=\"https://colab.research.google.com/assets/colab-badge.svg\" alt=\"Open In Colab\"/></a>"
      ]
    },
    {
      "cell_type": "markdown",
      "metadata": {
        "id": "rc0FeNe50a4o"
      },
      "source": [
        "## Ce programme permet d'avoir les codes de la bourse AMCI des étudiants à partir de la site de la communauté juste avec leurs code AMCI"
      ]
    },
    {
      "cell_type": "code",
      "metadata": {
        "colab": {
          "base_uri": "https://localhost:8080/"
        },
        "id": "aBGkZTQvbjjr",
        "outputId": "58d39938-abeb-4088-ec25-71ac0f0d543d"
      },
      "source": [
        "!pip install beautifulsoup4\n",
        "!pip install requests"
      ],
      "execution_count": null,
      "outputs": [
        {
          "output_type": "stream",
          "text": [
            "Requirement already satisfied: beautifulsoup4 in /usr/local/lib/python3.7/dist-packages (4.6.3)\n",
            "Requirement already satisfied: requests in /usr/local/lib/python3.7/dist-packages (2.23.0)\n",
            "Requirement already satisfied: idna<3,>=2.5 in /usr/local/lib/python3.7/dist-packages (from requests) (2.10)\n",
            "Requirement already satisfied: certifi>=2017.4.17 in /usr/local/lib/python3.7/dist-packages (from requests) (2021.5.30)\n",
            "Requirement already satisfied: urllib3!=1.25.0,!=1.25.1,<1.26,>=1.21.1 in /usr/local/lib/python3.7/dist-packages (from requests) (1.24.3)\n",
            "Requirement already satisfied: chardet<4,>=3.0.2 in /usr/local/lib/python3.7/dist-packages (from requests) (3.0.4)\n"
          ],
          "name": "stdout"
        }
      ]
    },
    {
      "cell_type": "code",
      "metadata": {
        "id": "Yb0yLjbEb5hj"
      },
      "source": [
        "import requests\n",
        "import pandas as pd\n",
        "from bs4 import BeautifulSoup"
      ],
      "execution_count": 1,
      "outputs": []
    },
    {
      "cell_type": "code",
      "metadata": {
        "id": "I420WGeTy414"
      },
      "source": [
        "#Webscraper le code amci sur cesam\n",
        "\n",
        "def webscrape(url_base,matricule):\n",
        "  infos={}\n",
        "  Prenom_Nom=[]\n",
        "  Pays=[]\n",
        "  Matricule=[]\n",
        "  Code_de_la_banque=[]\n",
        "\n",
        "  for mat in matricule:\n",
        "    les_infos=[]\n",
        "    url=url_base+str(mat)+str('#')\n",
        "    response=requests.get(url)\n",
        "    soup=BeautifulSoup(response.text,\"html.parser\")\n",
        "    table=soup.findAll(\"td\")\n",
        "    if len(table)!=0:\n",
        "        for item in table:\n",
        "            les_infos.append(item.text)\n",
        "        Pays.append(les_infos[0])\n",
        "        Matricule.append(les_infos[1])\n",
        "        Prenom_Nom.append(les_infos[2])\n",
        "        Code_de_la_banque.append(les_infos[3])\n",
        "  infos={\"Pays\":Pays,\"Matricule\":Matricule,\"Nom et Prénom\":Prenom_Nom,\"Code_de_la_bourse\":Code_de_la_banque}\n",
        "  df=pd.DataFrame(infos)\n",
        "  print(df.head())\n",
        "  return df.to_csv(\"code_amci.csv\")\n"
      ],
      "execution_count": 44,
      "outputs": []
    },
    {
      "cell_type": "code",
      "metadata": {
        "colab": {
          "base_uri": "https://localhost:8080/"
        },
        "id": "f9Sol7Lb8tUP",
        "outputId": "b1818675-1a40-42e2-c725-cddfab91a525"
      },
      "source": [
        "url_base=\"https://cesam-centrale.ma/search/search-bourse?q=\"\n",
        "\n",
        "matricule=[20170671,20170672,20180687,20180688,20180689,20180690,20180691,20180692,20180693]\n",
        "\n",
        "webscrape(url_base,matricule)"
      ],
      "execution_count": 45,
      "outputs": [
        {
          "output_type": "stream",
          "name": "stdout",
          "text": [
            "       Pays Matricule                        Nom et Prénom   Code_de_la_bourse\n",
            "0     Bénin  20180687                   AHOSSI KAREN NELLY     81680 | 1005893\n",
            "1     Bénin  20180688     SAYOUTI SOULEMANE ABDOUL LATIFOU     81680 | 1005213\n",
            "2     Bénin  20180690           OLOUKOI OLUWATOGNI MARILYN     81680 | 1005214\n",
            "3  Cameroun  20180692                       ABAKAR GARGOUM     81680 | 1006411\n",
            "4  Cameroun  20180693  SAMBA NGANDI CECILE LUMILLA MAUREEN  81680100 | 1004569\n"
          ]
        }
      ]
    },
    {
      "cell_type": "code",
      "metadata": {
        "id": "Y1k-r-kqwFyS"
      },
      "source": [
        ""
      ],
      "execution_count": null,
      "outputs": []
    }
  ]
}
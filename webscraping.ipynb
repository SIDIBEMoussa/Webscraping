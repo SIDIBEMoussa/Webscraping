{
  "nbformat": 4,
  "nbformat_minor": 0,
  "metadata": {
    "colab": {
      "name": "webscraping.ipynb",
      "provenance": [],
      "collapsed_sections": [],
      "authorship_tag": "ABX9TyNy6JIzJ2MBiZ2lVIWDQxrB",
      "include_colab_link": true
    },
    "kernelspec": {
      "name": "python3",
      "display_name": "Python 3"
    },
    "language_info": {
      "name": "python"
    }
  },
  "cells": [
    {
      "cell_type": "markdown",
      "metadata": {
        "id": "view-in-github",
        "colab_type": "text"
      },
      "source": [
        "<a href=\"https://colab.research.google.com/github/SIDIBEMoussa/Webscraping/blob/main/webscraping.ipynb\" target=\"_parent\"><img src=\"https://colab.research.google.com/assets/colab-badge.svg\" alt=\"Open In Colab\"/></a>"
      ]
    },
    {
      "cell_type": "code",
      "metadata": {
        "colab": {
          "base_uri": "https://localhost:8080/"
        },
        "id": "aBGkZTQvbjjr",
        "outputId": "58d39938-abeb-4088-ec25-71ac0f0d543d"
      },
      "source": [
        "!pip install beautifulsoup4\n",
        "!pip install requests"
      ],
      "execution_count": 1,
      "outputs": [
        {
          "output_type": "stream",
          "text": [
            "Requirement already satisfied: beautifulsoup4 in /usr/local/lib/python3.7/dist-packages (4.6.3)\n",
            "Requirement already satisfied: requests in /usr/local/lib/python3.7/dist-packages (2.23.0)\n",
            "Requirement already satisfied: idna<3,>=2.5 in /usr/local/lib/python3.7/dist-packages (from requests) (2.10)\n",
            "Requirement already satisfied: certifi>=2017.4.17 in /usr/local/lib/python3.7/dist-packages (from requests) (2021.5.30)\n",
            "Requirement already satisfied: urllib3!=1.25.0,!=1.25.1,<1.26,>=1.21.1 in /usr/local/lib/python3.7/dist-packages (from requests) (1.24.3)\n",
            "Requirement already satisfied: chardet<4,>=3.0.2 in /usr/local/lib/python3.7/dist-packages (from requests) (3.0.4)\n"
          ],
          "name": "stdout"
        }
      ]
    },
    {
      "cell_type": "code",
      "metadata": {
        "id": "Yb0yLjbEb5hj"
      },
      "source": [
        "import requests\n",
        "import pandas as pd\n",
        "from bs4 import BeautifulSoup"
      ],
      "execution_count": 2,
      "outputs": []
    },
    {
      "cell_type": "code",
      "metadata": {
        "id": "I420WGeTy414"
      },
      "source": [
        "#Webscraper le code amci sur cesam\n",
        "import pandas as pd\n",
        "\n",
        "\n",
        "def webscrape(url_base,matricule):\n",
        "  infos={}\n",
        "  Noms=[]\n",
        "  Prenom=[]\n",
        "  Pays=[]\n",
        "  Matricule=[]\n",
        "  Code_de_la_banque=[]\n",
        "\n",
        "  for mat in matricule:\n",
        "    url=url_base+str(mat)+str('#')\n",
        "    response=requests.get(url)\n",
        "    soup=BeautifulSoup(response.text,\"html.parser\")\n",
        "    table=soup.findAll(\"tr\")\n",
        "    les_infos=(table[1].text).split()\n",
        "    Pays.append(les_infos[0])\n",
        "    Matricule.append(les_infos[1])\n",
        "    Prenom.append(les_infos[2])\n",
        "    Noms.append(les_infos[3])\n",
        "    Code_de_la_banque.append(str(les_infos[4])+str(les_infos[5])+str(les_infos[6]))\n",
        "  infos={\"Pays\":Pays,\"Matricule\":Matricule,\"Prenom\":Prenom,\"Nom\":Noms,\"Code_de_la_bourse\":Code_de_la_banque}\n",
        "  df=pd.DataFrame(infos)\n",
        "  print(df.head())\n",
        "  return df.to_csv(\"code_amci.csv\")\n"
      ],
      "execution_count": 3,
      "outputs": []
    },
    {
      "cell_type": "code",
      "metadata": {
        "colab": {
          "base_uri": "https://localhost:8080/"
        },
        "id": "f9Sol7Lb8tUP",
        "outputId": "61a197e3-054e-46a8-ee3b-bad3bda218aa"
      },
      "source": [
        "url_base=\"https://cesam-centrale.ma/search/search-bourse?q=\"\n",
        "\n",
        "matricule=[20170671,20170672]\n",
        "\n",
        "webscrape(url_base,matricule)"
      ],
      "execution_count": 4,
      "outputs": [
        {
          "output_type": "stream",
          "text": [
            "   Pays Matricule      Prenom     Nom Code_de_la_bourse\n",
            "0  Mali  20170671      MOUSSA  SIDIBE     816800|992354\n",
            "1  Mali  20170672  SOULEYMANE   FOMBA     816800|991720\n"
          ],
          "name": "stdout"
        }
      ]
    }
  ]
}